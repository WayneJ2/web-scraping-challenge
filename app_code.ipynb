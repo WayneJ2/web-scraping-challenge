{
 "cells": [
  {
   "cell_type": "code",
   "execution_count": 9,
   "id": "6524879e",
   "metadata": {},
   "outputs": [],
   "source": [
    "from flask import Flask, render_template, redirect\n",
    "from flask_pymongo import PyMongo\n",
    "import scrape_mars\n",
    "\n",
    "app = Flask(__name__)\n",
    "\n",
    "mongo = PyMongo(app, uri=\"mongodb://localhost:27017/mars_app\")"
   ]
  },
  {
   "cell_type": "code",
   "execution_count": 10,
   "id": "ce779ef8",
   "metadata": {},
   "outputs": [
    {
     "data": {
      "text/plain": [
       "Collection(Database(MongoClient(host=['localhost:27017'], document_class=dict, tz_aware=False, connect=False), 'mars_app'), 'marsPull')"
      ]
     },
     "execution_count": 10,
     "metadata": {},
     "output_type": "execute_result"
    }
   ],
   "source": [
    "mongo.db.marsPull\n",
    "# mdb = mongo.mars_db\n",
    "\n",
    "# marsData = scrape_mars.scrape()\n",
    "# mdb.data.insert(marsData)"
   ]
  },
  {
   "cell_type": "code",
   "execution_count": null,
   "id": "79999d25",
   "metadata": {},
   "outputs": [],
   "source": [
    "@app.route(\"/\")\n",
    "def index():\n",
    "    data = mongo.db.marsPull.find_one()\n",
    "    return render_template(\"index.html\", data=data)\n",
    "\n",
    "@app.route(\"/scrape\")\n",
    "def scraper():\n",
    "    marsData = mongo.db.marsPull\n",
    "    mars_data = scrape_mars.scrape()\n",
    "    print(mars_data)\n",
    "    marsData.update({}, mars_data, upsert=True)\n",
    "    return redirect(\"/\", code=302)\n",
    "\n",
    "\n",
    "if __name__ == \"__main__\":\n",
    "    app.run(debug=True)"
   ]
  }
 ],
 "metadata": {
  "kernelspec": {
   "display_name": "Python 3",
   "language": "python",
   "name": "python3"
  },
  "language_info": {
   "codemirror_mode": {
    "name": "ipython",
    "version": 3
   },
   "file_extension": ".py",
   "mimetype": "text/x-python",
   "name": "python",
   "nbconvert_exporter": "python",
   "pygments_lexer": "ipython3",
   "version": "3.8.8"
  }
 },
 "nbformat": 4,
 "nbformat_minor": 5
}
