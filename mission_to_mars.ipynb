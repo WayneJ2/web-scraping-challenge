{
 "cells": [
  {
   "cell_type": "code",
   "execution_count": 7,
   "id": "120b4650",
   "metadata": {},
   "outputs": [],
   "source": [
    "from splinter import Browser \n",
    "from bs4 import BeautifulSoup\n",
    "from webdriver_manager.chrome import ChromeDriverManager\n",
    "import time\n",
    "import pandas as pd\n"
   ]
  },
  {
   "cell_type": "code",
   "execution_count": 2,
   "id": "25cb62ed",
   "metadata": {},
   "outputs": [],
   "source": [
    "\n",
    "def init_browser():\n",
    "    # @NOTE: Replace the path with your actual path to the chromedriver\n",
    "    executable_path = { \"executable_path\": ChromeDriverManager().install()}\n",
    "    return Browser(\"chrome\", **executable_path, headless=False)\n",
    "\n",
    "\n",
    "def article_scrape():\n",
    "    browser = init_browser()\n",
    "    url = \"https://mars.nasa.gov/news\"\n",
    "    browser.visit(url)\n",
    "    \n",
    "    time.sleep(1)\n",
    "    \n",
    "    html = browser.html\n",
    "    soup = BeautifulSoup(html, \"html.parser\")\n",
    "    \n",
    "    latest_news = {}\n",
    "    \n",
    "    try:\n",
    "        article = soup.find(\"div\", class_=\"list_text\")\n",
    "        link = article.find(\"a\")\n",
    "        latest_news['news_title'] = link.get_text()\n",
    "        latest_news['news_p'] = article.find(\"div\", class_=\"article_teaser_body\").get_text()\n",
    "        \n",
    "    browser.quit()\n",
    "    \n",
    "    except: \n",
    "        print(\"Scrape Complete\")\n",
    "    return latest_news\n",
    "\n",
    "def image_scrape():\n",
    "    browser = init_browser()\n",
    "    shorturl = \"https://data-class-jpl-space.s3.amazonaws.com/JPL_Space/\"\n",
    "    homeurl = \"https://data-class-jpl-space.s3.amazonaws.com/JPL_Space/index.html\"\n",
    "    browser.visit(homeurl)\n",
    "\n",
    "    time.sleep(1)\n",
    "\n",
    "    html = browser.html\n",
    "    soup = BeautifulSoup(html, \"html.parser\")\n",
    "    \n",
    "    try:\n",
    "        relative_image_path = soup.find('img', class_='headerimage fade-in')[\"src\"]\n",
    "        featured_img_url = shorturl + relative_image_path\n",
    "        \n",
    "    browser.quit()\n",
    "    \n",
    "    except: \n",
    "        print(\"Image Scrape Complete\")\n",
    "        \n",
    "    return featured_img_url\n",
    "\n",
    "def facts_scrape():\n",
    "    browser = init_browser()\n",
    "    url = \"https://space-facts.com/mars/\"\n",
    "    \n",
    "    htmlFacts = pd.read_html(url)\n",
    "    strTable = htmlFacts[0].to_html(header=False, index=False)\n",
    "    marsFacts = BeautifulSoup(strTable, \"html.parser\").prettify()    \n",
    "    \n",
    "    return print(marsFacts)\n",
    "\n",
    "def hemisphere_scrape():\n",
    "    browser = init_browser()\n",
    "    url = \"https://astrogeology.usgs.gov/search/results?q=hemisphere+enhanced&k1=target&v1=Mars\"\n",
    "    browser.visit(url)\n",
    "\n",
    "    time.sleep(1)\n",
    "\n",
    "    html = browser.html\n",
    "    soup = BeautifulSoup(html, \"html.parser\")\n",
    "    \n",
    "    results = soup.find(\"div\", class_=\"collapsible results\")\n",
    "    items = results.find_all(\"div\", class_=\"item\")\n",
    "    \n",
    "    hemisperesList = []\n",
    "    \n",
    "    for item in items:\n",
    "        \n",
    "        hemispere = item.find(\"h3\").get_text()\n",
    "        link = items.find(\"a\", class_=\"itemLink\")\n",
    "        href = link[\"href\"]\n",
    "        \n",
    "        browser.click_link_by_href(href)\n",
    "            \n",
    "    \n",
    "    \n",
    "\n",
    "        \n",
    "        \n",
    "    \n",
    "    \n",
    "    \n",
    "    \n",
    "    \n",
    "    \n",
    "    try:\n",
    "        relative_image_path = soup.find('img', class_='headerimage fade-in')[\"src\"]\n",
    "        featured_img_url = url + relative_image_path\n",
    "        \n",
    "    browser.quit()\n",
    "    \n",
    "    except: \n",
    "        print(\"Image Scrape Complete\")\n",
    "        \n",
    "    return featured_img_url"
   ]
  },
  {
   "cell_type": "code",
   "execution_count": 60,
   "id": "181840f9",
   "metadata": {},
   "outputs": [
    {
     "name": "stderr",
     "output_type": "stream",
     "text": [
      "\n",
      "\n",
      "====== WebDriver manager ======\n",
      "Current google-chrome version is 93.0.4577\n",
      "Get LATEST driver version for 93.0.4577\n",
      "Driver [C:\\Users\\wodd\\.wdm\\drivers\\chromedriver\\win32\\93.0.4577.63\\chromedriver.exe] found in cache\n"
     ]
    },
    {
     "data": {
      "text/plain": [
       "'https://astropedia.astrogeology.usgs.gov/download/Mars/Viking/cerberus_enhanced.tif/full.jpg'"
      ]
     },
     "execution_count": 60,
     "metadata": {},
     "output_type": "execute_result"
    }
   ],
   "source": [
    "browser = init_browser()\n",
    "url = \"https://astrogeology.usgs.gov/search/results?q=hemisphere+enhanced&k1=target&v1=Mars\"\n",
    "baseurl = \"https://astrogeology.usgs.gov\"\n",
    "browser.visit(url)\n",
    "\n",
    "time.sleep(1)\n",
    "\n",
    "html = browser.html\n",
    "soup = BeautifulSoup(html, \"html.parser\")\n",
    "\n",
    "results = soup.find(\"div\", class_=\"collapsible results\")\n",
    "items = results.find(\"div\", class_=\"item\")\n",
    "\n",
    "title = items.find(\"h3\").get_text()\n",
    "link = items.find(\"a\", class_=\"itemLink\")\n",
    "href = link[\"href\"]\n",
    "\n",
    "\n",
    "\n",
    "\n",
    "hemispere_url = browser.find_link_by_partial_href(href).first[\"href\"]\n",
    "browser.visit(hemispere_url)\n",
    "\n",
    "browser.click_link_by_text('Sample')\n",
    "window = browser.windows[0]\n",
    "img_url = window.next.url\n",
    "img_url\n",
    "\n",
    "# # how do I get link for new page\n",
    "# html = browser.html\n",
    "# imagePage = BeautifulSoup(html, \"html.parser\")\n",
    "\n",
    "# image_url = imagePage.find(\"img\")[\"src\"]\n",
    "\n",
    "\n",
    "\n"
   ]
  },
  {
   "cell_type": "code",
   "execution_count": 48,
   "id": "a556a496",
   "metadata": {},
   "outputs": [
    {
     "data": {
      "text/plain": [
       "'/search/map/Mars/Viking/cerberus_enhanced'"
      ]
     },
     "execution_count": 48,
     "metadata": {},
     "output_type": "execute_result"
    }
   ],
   "source": [
    "href"
   ]
  },
  {
   "cell_type": "code",
   "execution_count": null,
   "id": "275fb0f6",
   "metadata": {},
   "outputs": [],
   "source": [
    "\n"
   ]
  },
  {
   "cell_type": "code",
   "execution_count": null,
   "id": "130cce6a",
   "metadata": {},
   "outputs": [],
   "source": []
  }
 ],
 "metadata": {
  "kernelspec": {
   "display_name": "Python 3",
   "language": "python",
   "name": "python3"
  },
  "language_info": {
   "codemirror_mode": {
    "name": "ipython",
    "version": 3
   },
   "file_extension": ".py",
   "mimetype": "text/x-python",
   "name": "python",
   "nbconvert_exporter": "python",
   "pygments_lexer": "ipython3",
   "version": "3.8.8"
  }
 },
 "nbformat": 4,
 "nbformat_minor": 5
}
